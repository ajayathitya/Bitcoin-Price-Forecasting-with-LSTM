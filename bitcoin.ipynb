{
 "cells": [
  {
   "cell_type": "markdown",
   "metadata": {},
   "source": [
    "## Predicting Bitcoin Price using LSTM "
   ]
  },
  {
   "cell_type": "code",
   "execution_count": null,
   "metadata": {
    "colab": {
     "base_uri": "https://localhost:8080/",
     "height": 202
    },
    "colab_type": "code",
    "id": "pvxSgnaD7DWB",
    "outputId": "aab8f0c0-e2f1-4b95-d111-509e1470bac6"
   },
   "outputs": [],
   "source": [
    "!pip install kaggle"
   ]
  },
  {
   "cell_type": "code",
   "execution_count": null,
   "metadata": {
    "colab": {
     "base_uri": "https://localhost:8080/",
     "height": 34
    },
    "colab_type": "code",
    "id": "eVnRN--f9qF6",
    "outputId": "0a9123f3-0d90-4059-d5d1-50096aab7c52"
   },
   "outputs": [],
   "source": [
    "!mkdir .kaggle"
   ]
  },
  {
   "cell_type": "code",
   "execution_count": null,
   "metadata": {
    "colab": {},
    "colab_type": "code",
    "id": "2yt2iTkO9sq6"
   },
   "outputs": [],
   "source": [
    "import json\n",
    "token = {\"username\":\"xxxxxx\",\"key\":\"xxxxxxxxxxxxxxxxxxx\"}\n",
    "with open('/content/.kaggle/kaggle.json', 'w') as file:\n",
    "    json.dump(token, file)"
   ]
  },
  {
   "cell_type": "code",
   "execution_count": null,
   "metadata": {
    "colab": {},
    "colab_type": "code",
    "id": "vRYKk5QX9vVg"
   },
   "outputs": [],
   "source": [
    "!cp /content/.kaggle/kaggle.json ~/.kaggle/kaggle.json"
   ]
  },
  {
   "cell_type": "code",
   "execution_count": 6,
   "metadata": {
    "colab": {
     "base_uri": "https://localhost:8080/",
     "height": 34
    },
    "colab_type": "code",
    "id": "DcsYpLm-9zCh",
    "outputId": "3e947498-7e53-4549-b987-7999ab7de521"
   },
   "outputs": [
    {
     "name": "stdout",
     "output_type": "stream",
     "text": [
      "- path is now set to: {/content}\n"
     ]
    }
   ],
   "source": [
    "!kaggle config set -n path -v{/content}"
   ]
  },
  {
   "cell_type": "code",
   "execution_count": null,
   "metadata": {
    "colab": {},
    "colab_type": "code",
    "id": "mkxMvQua91Jv"
   },
   "outputs": [],
   "source": [
    "!chmod 600 /root/.kaggle/kaggle.json"
   ]
  },
  {
   "cell_type": "code",
   "execution_count": 8,
   "metadata": {
    "colab": {
     "base_uri": "https://localhost:8080/",
     "height": 34
    },
    "colab_type": "code",
    "id": "NcucVbZv94R3",
    "outputId": "a7e5e6f5-320b-46a8-b766-33d47cab0bb4"
   },
   "outputs": [
    {
     "name": "stdout",
     "output_type": "stream",
     "text": [
      "bitcoin-historical-data.zip: Skipping, found more recently modified local copy (use --force to force download)\n"
     ]
    }
   ],
   "source": [
    "!kaggle datasets download -d mczielinski/bitcoin-historical-data -p/content"
   ]
  },
  {
   "cell_type": "code",
   "execution_count": 9,
   "metadata": {
    "colab": {
     "base_uri": "https://localhost:8080/",
     "height": 84
    },
    "colab_type": "code",
    "id": "Wxj2LSZDXnu4",
    "outputId": "bbb18bff-e29f-44a9-d855-cbbb7e2d5098"
   },
   "outputs": [
    {
     "name": "stdout",
     "output_type": "stream",
     "text": [
      "Archive:  bitcoin-historical-data.zip\n",
      "replace bitstampUSD_1-min_data_2012-01-01_to_2019-08-12.csv? [y]es, [n]o, [A]ll, [N]one, [r]ename: A\n",
      "  inflating: bitstampUSD_1-min_data_2012-01-01_to_2019-08-12.csv  \n",
      "  inflating: coinbaseUSD_1-min_data_2014-12-01_to_2019-01-09.csv  \n"
     ]
    }
   ],
   "source": [
    "!unzip \\*.zip"
   ]
  },
  {
   "cell_type": "code",
   "execution_count": 10,
   "metadata": {
    "colab": {
     "base_uri": "https://localhost:8080/",
     "height": 195
    },
    "colab_type": "code",
    "id": "FVo4QCxUYVWy",
    "outputId": "b93beb5f-141d-4b6f-bdd9-26b7196a2473"
   },
   "outputs": [
    {
     "data": {
      "text/html": [
       "<div>\n",
       "<style scoped>\n",
       "    .dataframe tbody tr th:only-of-type {\n",
       "        vertical-align: middle;\n",
       "    }\n",
       "\n",
       "    .dataframe tbody tr th {\n",
       "        vertical-align: top;\n",
       "    }\n",
       "\n",
       "    .dataframe thead th {\n",
       "        text-align: right;\n",
       "    }\n",
       "</style>\n",
       "<table border=\"1\" class=\"dataframe\">\n",
       "  <thead>\n",
       "    <tr style=\"text-align: right;\">\n",
       "      <th></th>\n",
       "      <th>Timestamp</th>\n",
       "      <th>Open</th>\n",
       "      <th>High</th>\n",
       "      <th>Low</th>\n",
       "      <th>Close</th>\n",
       "      <th>Volume_(BTC)</th>\n",
       "      <th>Volume_(Currency)</th>\n",
       "      <th>Weighted_Price</th>\n",
       "    </tr>\n",
       "  </thead>\n",
       "  <tbody>\n",
       "    <tr>\n",
       "      <th>0</th>\n",
       "      <td>1325317920</td>\n",
       "      <td>4.39</td>\n",
       "      <td>4.39</td>\n",
       "      <td>4.39</td>\n",
       "      <td>4.39</td>\n",
       "      <td>0.455581</td>\n",
       "      <td>2.0</td>\n",
       "      <td>4.39</td>\n",
       "    </tr>\n",
       "    <tr>\n",
       "      <th>1</th>\n",
       "      <td>1325317980</td>\n",
       "      <td>NaN</td>\n",
       "      <td>NaN</td>\n",
       "      <td>NaN</td>\n",
       "      <td>NaN</td>\n",
       "      <td>NaN</td>\n",
       "      <td>NaN</td>\n",
       "      <td>NaN</td>\n",
       "    </tr>\n",
       "    <tr>\n",
       "      <th>2</th>\n",
       "      <td>1325318040</td>\n",
       "      <td>NaN</td>\n",
       "      <td>NaN</td>\n",
       "      <td>NaN</td>\n",
       "      <td>NaN</td>\n",
       "      <td>NaN</td>\n",
       "      <td>NaN</td>\n",
       "      <td>NaN</td>\n",
       "    </tr>\n",
       "    <tr>\n",
       "      <th>3</th>\n",
       "      <td>1325318100</td>\n",
       "      <td>NaN</td>\n",
       "      <td>NaN</td>\n",
       "      <td>NaN</td>\n",
       "      <td>NaN</td>\n",
       "      <td>NaN</td>\n",
       "      <td>NaN</td>\n",
       "      <td>NaN</td>\n",
       "    </tr>\n",
       "    <tr>\n",
       "      <th>4</th>\n",
       "      <td>1325318160</td>\n",
       "      <td>NaN</td>\n",
       "      <td>NaN</td>\n",
       "      <td>NaN</td>\n",
       "      <td>NaN</td>\n",
       "      <td>NaN</td>\n",
       "      <td>NaN</td>\n",
       "      <td>NaN</td>\n",
       "    </tr>\n",
       "  </tbody>\n",
       "</table>\n",
       "</div>"
      ],
      "text/plain": [
       "    Timestamp  Open  High  ...  Volume_(BTC)  Volume_(Currency)  Weighted_Price\n",
       "0  1325317920  4.39  4.39  ...      0.455581                2.0            4.39\n",
       "1  1325317980   NaN   NaN  ...           NaN                NaN             NaN\n",
       "2  1325318040   NaN   NaN  ...           NaN                NaN             NaN\n",
       "3  1325318100   NaN   NaN  ...           NaN                NaN             NaN\n",
       "4  1325318160   NaN   NaN  ...           NaN                NaN             NaN\n",
       "\n",
       "[5 rows x 8 columns]"
      ]
     },
     "execution_count": 10,
     "metadata": {
      "tags": []
     },
     "output_type": "execute_result"
    }
   ],
   "source": [
    "import pandas as pd\n",
    "bit_data = pd.read_csv(\"bitstampUSD_1-min_data_2012-01-01_to_2019-08-12.csv\")\n",
    "bit_data.head(5)"
   ]
  },
  {
   "cell_type": "code",
   "execution_count": 11,
   "metadata": {
    "colab": {
     "base_uri": "https://localhost:8080/",
     "height": 134
    },
    "colab_type": "code",
    "id": "Pc8Aaqhhmvu0",
    "outputId": "3f0c35f7-d5a4-4b9e-ead2-862854ba7abf"
   },
   "outputs": [
    {
     "data": {
      "text/plain": [
       "date\n",
       "2011-12-31    4.482500\n",
       "2012-01-01    4.806667\n",
       "2012-01-02    5.000000\n",
       "2012-01-03    5.252500\n",
       "2012-01-04    5.223333\n",
       "Name: Close, dtype: float64"
      ]
     },
     "execution_count": 11,
     "metadata": {
      "tags": []
     },
     "output_type": "execute_result"
    }
   ],
   "source": [
    "bit_data[\"date\"]=pd.to_datetime(bit_data[\"Timestamp\"],unit=\"s\").dt.date\n",
    "group=bit_data.groupby(\"date\")\n",
    "data=group[\"Close\"].mean()\n",
    "data.head(5)"
   ]
  },
  {
   "cell_type": "code",
   "execution_count": null,
   "metadata": {
    "colab": {},
    "colab_type": "code",
    "id": "1yoDPgCtno1v"
   },
   "outputs": [],
   "source": [
    "train=data.iloc[:len(data)-60]\n",
    "test=data.iloc[len(train):]"
   ]
  },
  {
   "cell_type": "code",
   "execution_count": null,
   "metadata": {
    "colab": {},
    "colab_type": "code",
    "id": "beJvtycjwVqb"
   },
   "outputs": [],
   "source": [
    "train = train.to_frame()\n",
    "test = test.to_frame()"
   ]
  },
  {
   "cell_type": "code",
   "execution_count": null,
   "metadata": {
    "colab": {},
    "colab_type": "code",
    "id": "R5nyT8cJu_A5"
   },
   "outputs": [],
   "source": [
    "from sklearn.preprocessing import MinMaxScaler\n",
    "sc = MinMaxScaler(feature_range = (0,1))\n",
    "train_sc = sc.fit_transform(train)"
   ]
  },
  {
   "cell_type": "code",
   "execution_count": 35,
   "metadata": {
    "colab": {
     "base_uri": "https://localhost:8080/",
     "height": 50
    },
    "colab_type": "code",
    "id": "jmGTcDyxxZ5t",
    "outputId": "04832399-5ac1-4078-bf3c-ef55ebf23c35"
   },
   "outputs": [
    {
     "name": "stdout",
     "output_type": "stream",
     "text": [
      "x_train :   (2659, 60, 1)\n",
      "y_train :  (2659,)\n"
     ]
    }
   ],
   "source": [
    "import numpy as np\n",
    "timestep=60\n",
    "x_train=[]\n",
    "y_train=[]\n",
    "\n",
    "for i in range(timestep,train_sc.shape[0]):\n",
    "    x_train.append(train_sc[i-timestep:i,0])\n",
    "    y_train.append(train_sc[i,0])\n",
    "\n",
    "x_train,y_train=np.array(x_train),np.array(y_train)\n",
    "x_train=x_train.reshape(x_train.shape[0],x_train.shape[1],1) #reshaped for RNN\n",
    "print(\"x_train :  \",x_train.shape)\n",
    "print(\"y_train : \",y_train.shape)"
   ]
  },
  {
   "cell_type": "code",
   "execution_count": null,
   "metadata": {
    "colab": {},
    "colab_type": "code",
    "id": "1BjbbyywyV7h"
   },
   "outputs": [],
   "source": [
    "from keras.models import Sequential\n",
    "from keras.layers import Dense, LSTM, Dropout,Flatten\n",
    "\n",
    "regressor = Sequential()\n",
    "regressor.add(LSTM(10, input_shape = (None,1), activation='relu'))"
   ]
  },
  {
   "cell_type": "code",
   "execution_count": null,
   "metadata": {
    "colab": {},
    "colab_type": "code",
    "id": "08Xw-jmH4L6f"
   },
   "outputs": [],
   "source": [
    "regressor.add(Dense(units=1))"
   ]
  },
  {
   "cell_type": "code",
   "execution_count": 50,
   "metadata": {
    "colab": {
     "base_uri": "https://localhost:8080/",
     "height": 1000
    },
    "colab_type": "code",
    "id": "vLaYjcxc4UIf",
    "outputId": "747e6ab2-bf6f-4a45-fee8-daa9ad309f38"
   },
   "outputs": [
    {
     "name": "stderr",
     "output_type": "stream",
     "text": [
      "W0901 08:16:32.316384 139950164748160 deprecation.py:323] From /usr/local/lib/python3.6/dist-packages/tensorflow/python/ops/math_grad.py:1250: add_dispatch_support.<locals>.wrapper (from tensorflow.python.ops.array_ops) is deprecated and will be removed in a future version.\n",
      "Instructions for updating:\n",
      "Use tf.where in 2.0, which has the same broadcast rule as np.where\n",
      "W0901 08:16:32.740763 139950164748160 deprecation_wrapper.py:119] From /usr/local/lib/python3.6/dist-packages/keras/backend/tensorflow_backend.py:1033: The name tf.assign_add is deprecated. Please use tf.compat.v1.assign_add instead.\n",
      "\n"
     ]
    },
    {
     "name": "stdout",
     "output_type": "stream",
     "text": [
      "Epoch 1/100\n",
      "2659/2659 [==============================] - 3s 1ms/step - loss: 4.5409\n",
      "Epoch 2/100\n",
      "2659/2659 [==============================] - 3s 987us/step - loss: 0.0096\n",
      "Epoch 3/100\n",
      "2659/2659 [==============================] - 3s 984us/step - loss: 0.0097\n",
      "Epoch 4/100\n",
      "2659/2659 [==============================] - 3s 969us/step - loss: 0.0094\n",
      "Epoch 5/100\n",
      "2659/2659 [==============================] - 3s 967us/step - loss: 0.0091\n",
      "Epoch 6/100\n",
      "2659/2659 [==============================] - 3s 962us/step - loss: 0.0088\n",
      "Epoch 7/100\n",
      "2659/2659 [==============================] - 3s 976us/step - loss: 0.0084\n",
      "Epoch 8/100\n",
      "2659/2659 [==============================] - 3s 981us/step - loss: 0.0081\n",
      "Epoch 9/100\n",
      "2659/2659 [==============================] - 3s 982us/step - loss: 0.0077\n",
      "Epoch 10/100\n",
      "2659/2659 [==============================] - 3s 999us/step - loss: 0.0074\n",
      "Epoch 11/100\n",
      "2659/2659 [==============================] - 3s 984us/step - loss: 0.0071\n",
      "Epoch 12/100\n",
      "2659/2659 [==============================] - 3s 1ms/step - loss: 0.0067\n",
      "Epoch 13/100\n",
      "2659/2659 [==============================] - 3s 986us/step - loss: 0.0064\n",
      "Epoch 14/100\n",
      "2659/2659 [==============================] - 3s 985us/step - loss: 0.0061\n",
      "Epoch 15/100\n",
      "2659/2659 [==============================] - 3s 958us/step - loss: 0.0058\n",
      "Epoch 16/100\n",
      "2659/2659 [==============================] - 3s 947us/step - loss: 0.0055\n",
      "Epoch 17/100\n",
      "2659/2659 [==============================] - 3s 982us/step - loss: 0.0052\n",
      "Epoch 18/100\n",
      "2659/2659 [==============================] - 3s 974us/step - loss: 0.0050\n",
      "Epoch 19/100\n",
      "2659/2659 [==============================] - 3s 996us/step - loss: 0.0047\n",
      "Epoch 20/100\n",
      "2659/2659 [==============================] - 3s 983us/step - loss: 0.0044\n",
      "Epoch 21/100\n",
      "2659/2659 [==============================] - 3s 1ms/step - loss: 0.0042\n",
      "Epoch 22/100\n",
      "2659/2659 [==============================] - 3s 997us/step - loss: 0.0039\n",
      "Epoch 23/100\n",
      "2659/2659 [==============================] - 3s 972us/step - loss: 0.0037\n",
      "Epoch 24/100\n",
      "2659/2659 [==============================] - 3s 988us/step - loss: 0.0035\n",
      "Epoch 25/100\n",
      "2659/2659 [==============================] - 3s 981us/step - loss: 0.0033\n",
      "Epoch 26/100\n",
      "2659/2659 [==============================] - 3s 992us/step - loss: 0.0031\n",
      "Epoch 27/100\n",
      "2659/2659 [==============================] - 3s 961us/step - loss: 0.0029\n",
      "Epoch 28/100\n",
      "2659/2659 [==============================] - 3s 971us/step - loss: 0.0027\n",
      "Epoch 29/100\n",
      "2659/2659 [==============================] - 3s 973us/step - loss: 0.0026\n",
      "Epoch 30/100\n",
      "2659/2659 [==============================] - 3s 999us/step - loss: 0.0024\n",
      "Epoch 31/100\n",
      "2659/2659 [==============================] - 3s 995us/step - loss: 0.0022\n",
      "Epoch 32/100\n",
      "2659/2659 [==============================] - 3s 975us/step - loss: 0.0021\n",
      "Epoch 33/100\n",
      "2659/2659 [==============================] - 3s 993us/step - loss: 0.0020\n",
      "Epoch 34/100\n",
      "2659/2659 [==============================] - 3s 1ms/step - loss: 0.0018\n",
      "Epoch 35/100\n",
      "2659/2659 [==============================] - 3s 976us/step - loss: 0.0017\n",
      "Epoch 36/100\n",
      "2659/2659 [==============================] - 3s 974us/step - loss: 0.0016\n",
      "Epoch 37/100\n",
      "2659/2659 [==============================] - 3s 964us/step - loss: 0.0015\n",
      "Epoch 38/100\n",
      "2659/2659 [==============================] - 3s 978us/step - loss: 0.0014\n",
      "Epoch 39/100\n",
      "2659/2659 [==============================] - 3s 998us/step - loss: 0.0013\n",
      "Epoch 40/100\n",
      "2659/2659 [==============================] - 3s 996us/step - loss: 0.0012\n",
      "Epoch 41/100\n",
      "2659/2659 [==============================] - 3s 981us/step - loss: 0.0012\n",
      "Epoch 42/100\n",
      "2659/2659 [==============================] - 3s 996us/step - loss: 0.0011\n",
      "Epoch 43/100\n",
      "2659/2659 [==============================] - 3s 982us/step - loss: 0.0010\n",
      "Epoch 44/100\n",
      "2659/2659 [==============================] - 3s 1ms/step - loss: 9.7975e-04\n",
      "Epoch 45/100\n",
      "2659/2659 [==============================] - 3s 991us/step - loss: 9.2517e-04\n",
      "Epoch 46/100\n",
      "2659/2659 [==============================] - 3s 999us/step - loss: 8.7719e-04\n",
      "Epoch 47/100\n",
      "2659/2659 [==============================] - 3s 997us/step - loss: 8.3241e-04\n",
      "Epoch 48/100\n",
      "2659/2659 [==============================] - 3s 991us/step - loss: 7.9216e-04\n",
      "Epoch 49/100\n",
      "2659/2659 [==============================] - 3s 998us/step - loss: 7.5765e-04\n",
      "Epoch 50/100\n",
      "2659/2659 [==============================] - 3s 985us/step - loss: 7.2536e-04\n",
      "Epoch 51/100\n",
      "2659/2659 [==============================] - 3s 974us/step - loss: 6.9780e-04\n",
      "Epoch 52/100\n",
      "2659/2659 [==============================] - 3s 991us/step - loss: 6.7254e-04\n",
      "Epoch 53/100\n",
      "2659/2659 [==============================] - 3s 999us/step - loss: 6.4860e-04\n",
      "Epoch 54/100\n",
      "2659/2659 [==============================] - 3s 999us/step - loss: 6.2857e-04\n",
      "Epoch 55/100\n",
      "2659/2659 [==============================] - 3s 980us/step - loss: 6.1200e-04\n",
      "Epoch 56/100\n",
      "2659/2659 [==============================] - 3s 982us/step - loss: 5.9562e-04\n",
      "Epoch 57/100\n",
      "2659/2659 [==============================] - 3s 985us/step - loss: 5.8136e-04\n",
      "Epoch 58/100\n",
      "2659/2659 [==============================] - 3s 1ms/step - loss: 5.6867e-04\n",
      "Epoch 59/100\n",
      "2659/2659 [==============================] - 3s 1ms/step - loss: 5.5784e-04\n",
      "Epoch 60/100\n",
      "2659/2659 [==============================] - 3s 993us/step - loss: 5.4893e-04\n",
      "Epoch 61/100\n",
      "2659/2659 [==============================] - 3s 982us/step - loss: 5.4028e-04\n",
      "Epoch 62/100\n",
      "2659/2659 [==============================] - 3s 1ms/step - loss: 5.3273e-04\n",
      "Epoch 63/100\n",
      "2659/2659 [==============================] - 3s 989us/step - loss: 5.2645e-04\n",
      "Epoch 64/100\n",
      "2659/2659 [==============================] - 3s 987us/step - loss: 5.1914e-04\n",
      "Epoch 65/100\n",
      "2659/2659 [==============================] - 3s 993us/step - loss: 5.1476e-04\n",
      "Epoch 66/100\n",
      "2659/2659 [==============================] - 3s 979us/step - loss: 5.0816e-04\n",
      "Epoch 67/100\n",
      "2659/2659 [==============================] - 3s 970us/step - loss: 5.0356e-04\n",
      "Epoch 68/100\n",
      "2659/2659 [==============================] - 3s 975us/step - loss: 4.9867e-04\n",
      "Epoch 69/100\n",
      "2659/2659 [==============================] - 3s 996us/step - loss: 4.9353e-04\n",
      "Epoch 70/100\n",
      "2659/2659 [==============================] - 3s 994us/step - loss: 4.8955e-04\n",
      "Epoch 71/100\n",
      "2659/2659 [==============================] - 3s 995us/step - loss: 4.8517e-04\n",
      "Epoch 72/100\n",
      "2659/2659 [==============================] - 3s 978us/step - loss: 4.8236e-04\n",
      "Epoch 73/100\n",
      "2659/2659 [==============================] - 3s 992us/step - loss: 4.7779e-04\n",
      "Epoch 74/100\n",
      "2659/2659 [==============================] - 3s 987us/step - loss: 4.7411e-04\n",
      "Epoch 75/100\n",
      "2659/2659 [==============================] - 3s 982us/step - loss: 4.6994e-04\n",
      "Epoch 76/100\n",
      "2659/2659 [==============================] - 3s 1ms/step - loss: 4.6547e-04\n",
      "Epoch 77/100\n",
      "2659/2659 [==============================] - 3s 988us/step - loss: 4.6236e-04\n",
      "Epoch 78/100\n",
      "2659/2659 [==============================] - 3s 993us/step - loss: 4.5935e-04\n",
      "Epoch 79/100\n",
      "2659/2659 [==============================] - 3s 985us/step - loss: 4.5491e-04\n",
      "Epoch 80/100\n",
      "2659/2659 [==============================] - 3s 995us/step - loss: 4.5230e-04\n",
      "Epoch 81/100\n",
      "2659/2659 [==============================] - 3s 1ms/step - loss: 4.5024e-04\n",
      "Epoch 82/100\n",
      "2659/2659 [==============================] - 3s 969us/step - loss: 4.4650e-04\n",
      "Epoch 83/100\n",
      "2659/2659 [==============================] - 3s 988us/step - loss: 4.4163e-04\n",
      "Epoch 84/100\n",
      "2659/2659 [==============================] - 3s 995us/step - loss: 4.3860e-04\n",
      "Epoch 85/100\n",
      "2659/2659 [==============================] - 3s 987us/step - loss: 4.3508e-04\n",
      "Epoch 86/100\n",
      "2659/2659 [==============================] - 3s 975us/step - loss: 4.3149e-04\n",
      "Epoch 87/100\n",
      "2659/2659 [==============================] - 3s 991us/step - loss: 4.2767e-04\n",
      "Epoch 88/100\n",
      "2659/2659 [==============================] - 3s 989us/step - loss: 4.2428e-04\n",
      "Epoch 89/100\n",
      "2659/2659 [==============================] - 3s 993us/step - loss: 4.2148e-04\n",
      "Epoch 90/100\n",
      "2659/2659 [==============================] - 3s 988us/step - loss: 4.1822e-04\n",
      "Epoch 91/100\n",
      "2659/2659 [==============================] - 3s 980us/step - loss: 4.1571e-04\n",
      "Epoch 92/100\n",
      "2659/2659 [==============================] - 3s 978us/step - loss: 4.1164e-04\n",
      "Epoch 93/100\n",
      "2659/2659 [==============================] - 3s 983us/step - loss: 4.0784e-04\n",
      "Epoch 94/100\n",
      "2659/2659 [==============================] - 3s 1ms/step - loss: 4.0383e-04\n",
      "Epoch 95/100\n",
      "2659/2659 [==============================] - 3s 997us/step - loss: 4.0011e-04\n",
      "Epoch 96/100\n",
      "2659/2659 [==============================] - 3s 990us/step - loss: 3.9868e-04\n",
      "Epoch 97/100\n",
      "2659/2659 [==============================] - 3s 996us/step - loss: 3.9461e-04\n",
      "Epoch 98/100\n",
      "2659/2659 [==============================] - 3s 990us/step - loss: 3.9257e-04\n",
      "Epoch 99/100\n",
      "2659/2659 [==============================] - 3s 972us/step - loss: 3.8894e-04\n",
      "Epoch 100/100\n",
      "2659/2659 [==============================] - 3s 973us/step - loss: 3.8525e-04\n"
     ]
    },
    {
     "data": {
      "text/plain": [
       "<keras.callbacks.History at 0x7f48623cc588>"
      ]
     },
     "execution_count": 50,
     "metadata": {
      "tags": []
     },
     "output_type": "execute_result"
    }
   ],
   "source": [
    "regressor.compile(loss=\"mean_squared_error\",optimizer=\"adam\")\n",
    "regressor.fit(x_train,y_train,epochs=100,batch_size=32)"
   ]
  },
  {
   "cell_type": "code",
   "execution_count": null,
   "metadata": {
    "colab": {},
    "colab_type": "code",
    "id": "2vT_e8yx6eTd"
   },
   "outputs": [],
   "source": [
    "inputs=data[len(data)-len(test)-timestep:]\n",
    "inputs=inputs.values.reshape(-1,1)\n",
    "inputs=sc.transform(inputs)"
   ]
  },
  {
   "cell_type": "code",
   "execution_count": null,
   "metadata": {
    "colab": {},
    "colab_type": "code",
    "id": "Udy0Hnir9x8K"
   },
   "outputs": [],
   "source": [
    "x_test=[]\n",
    "for i in range(timestep,inputs.shape[0]):\n",
    "    x_test.append(inputs[i-timestep:i,0])\n",
    "x_test=np.array(x_test)\n",
    "x_test=x_test.reshape(x_test.shape[0],x_test.shape[1],1)"
   ]
  },
  {
   "cell_type": "code",
   "execution_count": null,
   "metadata": {
    "colab": {},
    "colab_type": "code",
    "id": "1B_o8jEz99mN"
   },
   "outputs": [],
   "source": [
    "predicted=regressor.predict(x_test)\n",
    "predicted=sc.inverse_transform(predicted)"
   ]
  },
  {
   "cell_type": "code",
   "execution_count": null,
   "metadata": {
    "colab": {},
    "colab_type": "code",
    "id": "UOkkvi7l-p7g"
   },
   "outputs": [],
   "source": [
    "test=np.array(test)\n",
    "test=test.reshape(len(test),1)"
   ]
  },
  {
   "cell_type": "code",
   "execution_count": 64,
   "metadata": {
    "colab": {
     "base_uri": "https://localhost:8080/",
     "height": 283
    },
    "colab_type": "code",
    "id": "xrMNIdpo-17z",
    "outputId": "f4be214b-86fa-49a0-8c4e-661e4e1d6d71"
   },
   "outputs": [
    {
     "data": {
      "image/png": "[encoded data removed]",
      "text/plain": [
       "<Figure size 432x288 with 1 Axes>"
      ]
     },
     "metadata": {
      "tags": []
     },
     "output_type": "display_data"
    }
   ],
   "source": [
    "import matplotlib.pyplot as plt\n",
    "plt.plot(test,color=\"r\",label=\"Actual Result\")\n",
    "plt.plot(predicted,color=\"g\",label=\"Predicted Result\")\n",
    "plt.legend()\n",
    "plt.xlabel(\"Time\")\n",
    "plt.ylabel(\"Value\")\n",
    "plt.show()"
   ]
  }
 ],
 "metadata": {
  "colab": {
   "name": "bitcoin.ipynb",
   "provenance": [],
   "version": "0.3.2"
  },
  "kernelspec": {
   "display_name": "Python 3",
   "language": "python",
   "name": "python3"
  },
  "language_info": {
   "codemirror_mode": {
    "name": "ipython",
    "version": 3
   },
   "file_extension": ".py",
   "mimetype": "text/x-python",
   "name": "python",
   "nbconvert_exporter": "python",
   "pygments_lexer": "ipython3",
   "version": "3.7.3"
  }
 },
 "nbformat": 4,
 "nbformat_minor": 2
}
